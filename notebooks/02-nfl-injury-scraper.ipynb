{
 "cells": [
  {
   "cell_type": "markdown",
   "id": "31a9a455-9e2b-404e-bc10-ce7f89480368",
   "metadata": {},
   "source": [
    "## Attempting to get NFL injury data"
   ]
  },
  {
   "cell_type": "code",
   "execution_count": 1,
   "id": "52478030-e742-448b-9419-a906082237fa",
   "metadata": {},
   "outputs": [],
   "source": [
    "%load_ext lab_black"
   ]
  },
  {
   "cell_type": "code",
   "execution_count": 2,
   "id": "8857f573-8aea-45ee-81c6-eceea7003807",
   "metadata": {},
   "outputs": [],
   "source": [
    "# Base packages\n",
    "import os\n",
    "import numpy as np\n",
    "import pandas as pd\n",
    "import requests\n",
    "import re\n",
    "from datetime import datetime\n",
    "from bs4 import BeautifulSoup\n",
    "from tqdm.notebook import tqdm"
   ]
  },
  {
   "cell_type": "code",
   "execution_count": 3,
   "id": "582747f9-130b-440d-aca0-bf4e7d9d35b4",
   "metadata": {},
   "outputs": [],
   "source": [
    "# Injury report site\n",
    "INJURY_REPORT_BASE_URL = \"b\"\n",
    "HEADERS = {\n",
    "    \"user-agent\": (\n",
    "        \"Mozilla/5.0 (Windows NT 10.0; Win64; x64) AppleWebKit/537.36 \"\n",
    "        \"(KHTML, like Gecko) Chrome/93.0.4577.63 Safari/537.36\"\n",
    "    )\n",
    "}\n",
    "\n",
    "# Time\n",
    "TODAY_STR = datetime.today().strftime(\"%Y%m%d\")\n",
    "\n",
    "# Validation list for NFL periods\n",
    "NFL_SEASON_PERIOD_LIST = [\n",
    "    \"REG1\",\n",
    "    \"REG2\",\n",
    "    \"REG3\",\n",
    "    \"REG4\",\n",
    "    \"REG5\",\n",
    "    \"REG6\",\n",
    "    \"REG7\",\n",
    "    \"REG8\",\n",
    "    \"REG9\",\n",
    "    \"REG10\",\n",
    "    \"REG11\",\n",
    "    \"REG12\",\n",
    "    \"REG13\",\n",
    "    \"REG14\",\n",
    "    \"REG15\",\n",
    "    \"REG16\",\n",
    "    \"REG17\",\n",
    "    \"POST1\",\n",
    "    \"POST2\",\n",
    "    \"POST3\",\n",
    "    \"PRO1\",\n",
    "    \"POST4\",\n",
    "]\n",
    "\n",
    "# Scraping seasons\n",
    "NFL_SEASON_YEAR_LIST = np.arange(2000, 2022, 1)"
   ]
  },
  {
   "cell_type": "code",
   "execution_count": 9,
   "id": "6e8bfaf7-5d68-4c49-8539-6dcbd145b200",
   "metadata": {},
   "outputs": [],
   "source": [
    "season_period_hashmap = {\n",
    "    \"REG1\": \"Week 1\",\n",
    "    \"REG2\": \"Week 2\",\n",
    "    \"REG3\": \"Week 3\",\n",
    "    \"REG4\": \"Week 4\",\n",
    "    \"REG5\": \"Week 5\",\n",
    "    \"REG6\": \"Week 6\",\n",
    "    \"REG7\": \"Week 7\",\n",
    "    \"REG8\": \"Week 8\",\n",
    "    \"REG9\": \"Week 9\",\n",
    "    \"REG10\": \"Week 10\",\n",
    "    \"REG11\": \"Week 11\",\n",
    "    \"REG12\": \"Week 12\",\n",
    "    \"REG13\": \"Week 13\",\n",
    "    \"REG14\": \"Week 14\",\n",
    "    \"REG15\": \"Week 15\",\n",
    "    \"REG16\": \"Week 16\",\n",
    "    \"REG17\": \"Week 17\",\n",
    "    \"POST1\": \"Wild Card\",\n",
    "    \"POST2\": \"Divisional Playoff\",\n",
    "    \"POST3\": \"Conference Championship\",\n",
    "    \"PRO1\": \"Pro Bowl\",\n",
    "    \"POST4\": \"Super Bowl\",\n",
    "}"
   ]
  },
  {
   "cell_type": "code",
   "execution_count": 4,
   "id": "b5afa03f-1a8c-47fe-9316-ce47fecfc47a",
   "metadata": {
    "tags": []
   },
   "outputs": [
    {
     "data": {
      "text/html": [
       "<div>\n",
       "<style scoped>\n",
       "    .dataframe tbody tr th:only-of-type {\n",
       "        vertical-align: middle;\n",
       "    }\n",
       "\n",
       "    .dataframe tbody tr th {\n",
       "        vertical-align: top;\n",
       "    }\n",
       "\n",
       "    .dataframe thead th {\n",
       "        text-align: right;\n",
       "    }\n",
       "</style>\n",
       "<table border=\"1\" class=\"dataframe\">\n",
       "  <thead>\n",
       "    <tr style=\"text-align: right;\">\n",
       "      <th></th>\n",
       "      <th>Player</th>\n",
       "      <th>Position</th>\n",
       "      <th>Injuries</th>\n",
       "      <th>Practice Status</th>\n",
       "      <th>Game Status</th>\n",
       "    </tr>\n",
       "  </thead>\n",
       "  <tbody>\n",
       "    <tr>\n",
       "      <th>0</th>\n",
       "      <td>Josh Lambo</td>\n",
       "      <td>K</td>\n",
       "      <td>Not injury related - personal matter</td>\n",
       "      <td>Did Not Participate In Practice</td>\n",
       "      <td>Out</td>\n",
       "    </tr>\n",
       "    <tr>\n",
       "      <th>1</th>\n",
       "      <td>Roy Robertson-Harris</td>\n",
       "      <td>DT</td>\n",
       "      <td>Ankle</td>\n",
       "      <td>Limited Participation in Practice</td>\n",
       "      <td>Out</td>\n",
       "    </tr>\n",
       "    <tr>\n",
       "      <th>2</th>\n",
       "      <td>Tre Herndon</td>\n",
       "      <td>CB</td>\n",
       "      <td>NaN</td>\n",
       "      <td>Full Participation in Practice</td>\n",
       "      <td>NaN</td>\n",
       "    </tr>\n",
       "    <tr>\n",
       "      <th>3</th>\n",
       "      <td>Cam Robinson</td>\n",
       "      <td>T</td>\n",
       "      <td>NaN</td>\n",
       "      <td>Full Participation in Practice</td>\n",
       "      <td>NaN</td>\n",
       "    </tr>\n",
       "    <tr>\n",
       "      <th>4</th>\n",
       "      <td>Andrew Norwell</td>\n",
       "      <td>G</td>\n",
       "      <td>NaN</td>\n",
       "      <td>Full Participation in Practice</td>\n",
       "      <td>NaN</td>\n",
       "    </tr>\n",
       "  </tbody>\n",
       "</table>\n",
       "</div>"
      ],
      "text/plain": [
       "                 Player Position                              Injuries  \\\n",
       "0            Josh Lambo        K  Not injury related - personal matter   \n",
       "1  Roy Robertson-Harris       DT                                 Ankle   \n",
       "2           Tre Herndon       CB                                   NaN   \n",
       "3          Cam Robinson        T                                   NaN   \n",
       "4        Andrew Norwell        G                                   NaN   \n",
       "\n",
       "                     Practice Status Game Status  \n",
       "0    Did Not Participate In Practice         Out  \n",
       "1  Limited Participation in Practice         Out  \n",
       "2     Full Participation in Practice         NaN  \n",
       "3     Full Participation in Practice         NaN  \n",
       "4     Full Participation in Practice         NaN  "
      ]
     },
     "execution_count": 4,
     "metadata": {},
     "output_type": "execute_result"
    }
   ],
   "source": [
    "# Sample workflow\n",
    "sample_injury_report_url = \"https://www.nfl.com/injuries/league/2021/REG4\"\n",
    "sample_injury_report_response = requests.get(sample_injury_report_url, headers=HEADERS)\n",
    "sample_injury_report_soup = BeautifulSoup(\n",
    "    sample_injury_report_response.content, \"html.parser\"\n",
    ")\n",
    "\n",
    "# Parsing the HTML table\n",
    "sample_injury_df = pd.concat(\n",
    "    pd.read_html(\n",
    "        str(\n",
    "            sample_injury_report_soup.find_all(\n",
    "                \"table\",\n",
    "                {\"class\": \"d3-o-table d3-o-table--detailed d3-o-reports--detailed\"},\n",
    "            )\n",
    "        )\n",
    "    )\n",
    ")\n",
    "\n",
    "sample_injury_df.head()"
   ]
  },
  {
   "cell_type": "code",
   "execution_count": 5,
   "id": "7ca60673-6f13-4b2b-9ca7-f3ff1cbf01d2",
   "metadata": {},
   "outputs": [],
   "source": [
    "def get_injury_report_df(\n",
    "    base_site_url: str = INJURY_REPORT_BASE_URL, year: int = None, period: str = None\n",
    ") -> pd.DataFrame:\n",
    "    assert (\n",
    "        1965 <= year <= int(datetime.today().strftime(\"%Y\"))\n",
    "    ), \"The year must be between 1965 and this year!\"\n",
    "    assert (\n",
    "        period in NFL_SEASON_PERIOD_LIST\n",
    "    ), \"Please enter a valid NFL season period code! Refer to the Documentation.\"\n",
    "    injury_report_url = f\"{base_site_url}/{str(year)}/{str(period)}\"\n",
    "    injury_report_response = requests.get(injury_report_url, headers=HEADERS)\n",
    "    injury_report_soup = BeautifulSoup(injury_report_response.content, \"html.parser\")\n",
    "    injury_report_table_tags_list = injury_report_soup.find_all(\n",
    "        \"table\", {\"class\": \"d3-o-table d3-o-table--detailed d3-o-reports--detailed\"}\n",
    "    )\n",
    "    if len(injury_report_table_tags_list) == 0:\n",
    "        raise ValueError(\n",
    "            \"Could not find any injury details here, please check if the year or the period exists (e.g. not in the future).\"\n",
    "        )\n",
    "    injury_df = pd.concat(pd.read_html(str(injury_report_table_tags_list)))\n",
    "    # Adding Season year and Period timeline\n",
    "    injury_df[\"Year\"] = year\n",
    "    injury_df[\"Period\"] = period\n",
    "    # Only keep information about injuries\n",
    "    injury_df.dropna(subset=[\"Injuries\"], inplace=True)\n",
    "    injury_df.reset_index(drop=True, inplace=True)\n",
    "    return injury_df"
   ]
  },
  {
   "cell_type": "code",
   "execution_count": 6,
   "id": "94d425e6-26be-4c9e-8cea-d3bc6ed3e999",
   "metadata": {},
   "outputs": [
    {
     "data": {
      "text/html": [
       "<div>\n",
       "<style scoped>\n",
       "    .dataframe tbody tr th:only-of-type {\n",
       "        vertical-align: middle;\n",
       "    }\n",
       "\n",
       "    .dataframe tbody tr th {\n",
       "        vertical-align: top;\n",
       "    }\n",
       "\n",
       "    .dataframe thead th {\n",
       "        text-align: right;\n",
       "    }\n",
       "</style>\n",
       "<table border=\"1\" class=\"dataframe\">\n",
       "  <thead>\n",
       "    <tr style=\"text-align: right;\">\n",
       "      <th></th>\n",
       "      <th>Player</th>\n",
       "      <th>Position</th>\n",
       "      <th>Injuries</th>\n",
       "      <th>Practice Status</th>\n",
       "      <th>Game Status</th>\n",
       "      <th>Year</th>\n",
       "      <th>Period</th>\n",
       "    </tr>\n",
       "  </thead>\n",
       "  <tbody>\n",
       "    <tr>\n",
       "      <th>0</th>\n",
       "      <td>Josh Lambo</td>\n",
       "      <td>K</td>\n",
       "      <td>Not injury related - personal matter</td>\n",
       "      <td>Did Not Participate In Practice</td>\n",
       "      <td>Out</td>\n",
       "      <td>2021</td>\n",
       "      <td>REG4</td>\n",
       "    </tr>\n",
       "    <tr>\n",
       "      <th>1</th>\n",
       "      <td>Roy Robertson-Harris</td>\n",
       "      <td>DT</td>\n",
       "      <td>Ankle</td>\n",
       "      <td>Limited Participation in Practice</td>\n",
       "      <td>Out</td>\n",
       "      <td>2021</td>\n",
       "      <td>REG4</td>\n",
       "    </tr>\n",
       "    <tr>\n",
       "      <th>2</th>\n",
       "      <td>Chidobe Awuzie</td>\n",
       "      <td>CB</td>\n",
       "      <td>Groin</td>\n",
       "      <td>Did Not Participate In Practice</td>\n",
       "      <td>Doubtful</td>\n",
       "      <td>2021</td>\n",
       "      <td>REG4</td>\n",
       "    </tr>\n",
       "    <tr>\n",
       "      <th>3</th>\n",
       "      <td>Tee Higgins</td>\n",
       "      <td>WR</td>\n",
       "      <td>Shoulder</td>\n",
       "      <td>Did Not Participate In Practice</td>\n",
       "      <td>Out</td>\n",
       "      <td>2021</td>\n",
       "      <td>REG4</td>\n",
       "    </tr>\n",
       "    <tr>\n",
       "      <th>4</th>\n",
       "      <td>Xavier Su'a-Filo</td>\n",
       "      <td>G</td>\n",
       "      <td>Knee</td>\n",
       "      <td>Did Not Participate In Practice</td>\n",
       "      <td>Doubtful</td>\n",
       "      <td>2021</td>\n",
       "      <td>REG4</td>\n",
       "    </tr>\n",
       "  </tbody>\n",
       "</table>\n",
       "</div>"
      ],
      "text/plain": [
       "                 Player Position                              Injuries  \\\n",
       "0            Josh Lambo        K  Not injury related - personal matter   \n",
       "1  Roy Robertson-Harris       DT                                 Ankle   \n",
       "2        Chidobe Awuzie       CB                                 Groin   \n",
       "3           Tee Higgins       WR                              Shoulder   \n",
       "4      Xavier Su'a-Filo        G                                  Knee   \n",
       "\n",
       "                     Practice Status Game Status  Year Period  \n",
       "0    Did Not Participate In Practice         Out  2021   REG4  \n",
       "1  Limited Participation in Practice         Out  2021   REG4  \n",
       "2    Did Not Participate In Practice    Doubtful  2021   REG4  \n",
       "3    Did Not Participate In Practice         Out  2021   REG4  \n",
       "4    Did Not Participate In Practice    Doubtful  2021   REG4  "
      ]
     },
     "execution_count": 6,
     "metadata": {},
     "output_type": "execute_result"
    }
   ],
   "source": [
    "# Checking if it works\n",
    "sample_year = 2021\n",
    "sample_period = \"REG4\"\n",
    "sample_output_injury_df = get_injury_report_df(year=sample_year, period=sample_period)\n",
    "sample_output_injury_df.head()"
   ]
  },
  {
   "cell_type": "code",
   "execution_count": 7,
   "id": "eab9fa9a-c2d9-4c8a-809b-1fdbd217b49a",
   "metadata": {},
   "outputs": [
    {
     "name": "stdout",
     "output_type": "stream",
     "text": [
      "Scraping NFL injury data from year 2000\n"
     ]
    },
    {
     "data": {
      "application/vnd.jupyter.widget-view+json": {
       "model_id": "68d71406fc654f9e81ef011452eab4ae",
       "version_major": 2,
       "version_minor": 0
      },
      "text/plain": [
       "  0%|          | 0/22 [00:00<?, ?it/s]"
      ]
     },
     "metadata": {},
     "output_type": "display_data"
    },
    {
     "name": "stdout",
     "output_type": "stream",
     "text": [
      "Scraping NFL injury data from year 2001\n"
     ]
    },
    {
     "data": {
      "application/vnd.jupyter.widget-view+json": {
       "model_id": "a39392923a194202a7d9d4b258409dcc",
       "version_major": 2,
       "version_minor": 0
      },
      "text/plain": [
       "  0%|          | 0/22 [00:00<?, ?it/s]"
      ]
     },
     "metadata": {},
     "output_type": "display_data"
    },
    {
     "name": "stdout",
     "output_type": "stream",
     "text": [
      "Scraping NFL injury data from year 2002\n"
     ]
    },
    {
     "data": {
      "application/vnd.jupyter.widget-view+json": {
       "model_id": "9a3ba456357d413b99da125581c1db27",
       "version_major": 2,
       "version_minor": 0
      },
      "text/plain": [
       "  0%|          | 0/22 [00:00<?, ?it/s]"
      ]
     },
     "metadata": {},
     "output_type": "display_data"
    },
    {
     "name": "stdout",
     "output_type": "stream",
     "text": [
      "Scraping NFL injury data from year 2003\n"
     ]
    },
    {
     "data": {
      "application/vnd.jupyter.widget-view+json": {
       "model_id": "081253dd9dad465681a68929ab64a2aa",
       "version_major": 2,
       "version_minor": 0
      },
      "text/plain": [
       "  0%|          | 0/22 [00:00<?, ?it/s]"
      ]
     },
     "metadata": {},
     "output_type": "display_data"
    },
    {
     "name": "stdout",
     "output_type": "stream",
     "text": [
      "Scraping NFL injury data from year 2004\n"
     ]
    },
    {
     "data": {
      "application/vnd.jupyter.widget-view+json": {
       "model_id": "c2124e8b598948788acdb389aac5a749",
       "version_major": 2,
       "version_minor": 0
      },
      "text/plain": [
       "  0%|          | 0/22 [00:00<?, ?it/s]"
      ]
     },
     "metadata": {},
     "output_type": "display_data"
    },
    {
     "name": "stdout",
     "output_type": "stream",
     "text": [
      "Scraping NFL injury data from year 2005\n"
     ]
    },
    {
     "data": {
      "application/vnd.jupyter.widget-view+json": {
       "model_id": "82d1eee9e28e49dfb52418f1098047c4",
       "version_major": 2,
       "version_minor": 0
      },
      "text/plain": [
       "  0%|          | 0/22 [00:00<?, ?it/s]"
      ]
     },
     "metadata": {},
     "output_type": "display_data"
    },
    {
     "name": "stdout",
     "output_type": "stream",
     "text": [
      "Scraping NFL injury data from year 2006\n"
     ]
    },
    {
     "data": {
      "application/vnd.jupyter.widget-view+json": {
       "model_id": "555fabfbe1d6447ca3623cc8ddeb9a26",
       "version_major": 2,
       "version_minor": 0
      },
      "text/plain": [
       "  0%|          | 0/22 [00:00<?, ?it/s]"
      ]
     },
     "metadata": {},
     "output_type": "display_data"
    },
    {
     "name": "stdout",
     "output_type": "stream",
     "text": [
      "Scraping NFL injury data from year 2007\n"
     ]
    },
    {
     "data": {
      "application/vnd.jupyter.widget-view+json": {
       "model_id": "4f14a53913a241ee9aa576f998161a2c",
       "version_major": 2,
       "version_minor": 0
      },
      "text/plain": [
       "  0%|          | 0/22 [00:00<?, ?it/s]"
      ]
     },
     "metadata": {},
     "output_type": "display_data"
    },
    {
     "name": "stdout",
     "output_type": "stream",
     "text": [
      "Scraping NFL injury data from year 2008\n"
     ]
    },
    {
     "data": {
      "application/vnd.jupyter.widget-view+json": {
       "model_id": "2c64a124225d4f0b89f8ca2b1f8a9fd5",
       "version_major": 2,
       "version_minor": 0
      },
      "text/plain": [
       "  0%|          | 0/22 [00:00<?, ?it/s]"
      ]
     },
     "metadata": {},
     "output_type": "display_data"
    },
    {
     "name": "stdout",
     "output_type": "stream",
     "text": [
      "Scraping NFL injury data from year 2009\n"
     ]
    },
    {
     "data": {
      "application/vnd.jupyter.widget-view+json": {
       "model_id": "b6c92e631fd745f5a54e81575c10fd77",
       "version_major": 2,
       "version_minor": 0
      },
      "text/plain": [
       "  0%|          | 0/22 [00:00<?, ?it/s]"
      ]
     },
     "metadata": {},
     "output_type": "display_data"
    },
    {
     "name": "stdout",
     "output_type": "stream",
     "text": [
      "Scraping NFL injury data from year 2010\n"
     ]
    },
    {
     "data": {
      "application/vnd.jupyter.widget-view+json": {
       "model_id": "9086b95632594ca68a45362005f5be26",
       "version_major": 2,
       "version_minor": 0
      },
      "text/plain": [
       "  0%|          | 0/22 [00:00<?, ?it/s]"
      ]
     },
     "metadata": {},
     "output_type": "display_data"
    },
    {
     "name": "stdout",
     "output_type": "stream",
     "text": [
      "Scraping NFL injury data from year 2011\n"
     ]
    },
    {
     "data": {
      "application/vnd.jupyter.widget-view+json": {
       "model_id": "980262e075e34d8b96b8145ac8292915",
       "version_major": 2,
       "version_minor": 0
      },
      "text/plain": [
       "  0%|          | 0/22 [00:00<?, ?it/s]"
      ]
     },
     "metadata": {},
     "output_type": "display_data"
    },
    {
     "name": "stdout",
     "output_type": "stream",
     "text": [
      "Scraping NFL injury data from year 2012\n"
     ]
    },
    {
     "data": {
      "application/vnd.jupyter.widget-view+json": {
       "model_id": "5db2855c3782442da880e0ac72f8dab4",
       "version_major": 2,
       "version_minor": 0
      },
      "text/plain": [
       "  0%|          | 0/22 [00:00<?, ?it/s]"
      ]
     },
     "metadata": {},
     "output_type": "display_data"
    },
    {
     "name": "stdout",
     "output_type": "stream",
     "text": [
      "Scraping NFL injury data from year 2013\n"
     ]
    },
    {
     "data": {
      "application/vnd.jupyter.widget-view+json": {
       "model_id": "875cf7d82ee746aa9d8065667c737fba",
       "version_major": 2,
       "version_minor": 0
      },
      "text/plain": [
       "  0%|          | 0/22 [00:00<?, ?it/s]"
      ]
     },
     "metadata": {},
     "output_type": "display_data"
    },
    {
     "name": "stdout",
     "output_type": "stream",
     "text": [
      "Scraping NFL injury data from year 2014\n"
     ]
    },
    {
     "data": {
      "application/vnd.jupyter.widget-view+json": {
       "model_id": "ebbc183958504ad88959aaf228bc56e3",
       "version_major": 2,
       "version_minor": 0
      },
      "text/plain": [
       "  0%|          | 0/22 [00:00<?, ?it/s]"
      ]
     },
     "metadata": {},
     "output_type": "display_data"
    },
    {
     "name": "stdout",
     "output_type": "stream",
     "text": [
      "Scraping NFL injury data from year 2015\n"
     ]
    },
    {
     "data": {
      "application/vnd.jupyter.widget-view+json": {
       "model_id": "bdd8516b71be430b8dbe3afc21e3b0e9",
       "version_major": 2,
       "version_minor": 0
      },
      "text/plain": [
       "  0%|          | 0/22 [00:00<?, ?it/s]"
      ]
     },
     "metadata": {},
     "output_type": "display_data"
    },
    {
     "name": "stdout",
     "output_type": "stream",
     "text": [
      "Scraping NFL injury data from year 2016\n"
     ]
    },
    {
     "data": {
      "application/vnd.jupyter.widget-view+json": {
       "model_id": "19b6c66d03004cd199eeefc34d42c742",
       "version_major": 2,
       "version_minor": 0
      },
      "text/plain": [
       "  0%|          | 0/22 [00:00<?, ?it/s]"
      ]
     },
     "metadata": {},
     "output_type": "display_data"
    },
    {
     "name": "stdout",
     "output_type": "stream",
     "text": [
      "Scraping NFL injury data from year 2017\n"
     ]
    },
    {
     "data": {
      "application/vnd.jupyter.widget-view+json": {
       "model_id": "5111b704e98b42c199acbcebde8c1d5b",
       "version_major": 2,
       "version_minor": 0
      },
      "text/plain": [
       "  0%|          | 0/22 [00:00<?, ?it/s]"
      ]
     },
     "metadata": {},
     "output_type": "display_data"
    },
    {
     "name": "stdout",
     "output_type": "stream",
     "text": [
      "Scraping NFL injury data from year 2018\n"
     ]
    },
    {
     "data": {
      "application/vnd.jupyter.widget-view+json": {
       "model_id": "7642f02063b04af89681e73bdd5be10a",
       "version_major": 2,
       "version_minor": 0
      },
      "text/plain": [
       "  0%|          | 0/22 [00:00<?, ?it/s]"
      ]
     },
     "metadata": {},
     "output_type": "display_data"
    },
    {
     "name": "stdout",
     "output_type": "stream",
     "text": [
      "Scraping NFL injury data from year 2019\n"
     ]
    },
    {
     "data": {
      "application/vnd.jupyter.widget-view+json": {
       "model_id": "bb60de1b276f4fdcb05a76ef07a590c6",
       "version_major": 2,
       "version_minor": 0
      },
      "text/plain": [
       "  0%|          | 0/22 [00:00<?, ?it/s]"
      ]
     },
     "metadata": {},
     "output_type": "display_data"
    },
    {
     "name": "stdout",
     "output_type": "stream",
     "text": [
      "Scraping NFL injury data from year 2020\n"
     ]
    },
    {
     "data": {
      "application/vnd.jupyter.widget-view+json": {
       "model_id": "9a7c76a726894f0cb581c370bd467160",
       "version_major": 2,
       "version_minor": 0
      },
      "text/plain": [
       "  0%|          | 0/22 [00:00<?, ?it/s]"
      ]
     },
     "metadata": {},
     "output_type": "display_data"
    },
    {
     "name": "stdout",
     "output_type": "stream",
     "text": [
      "Scraping NFL injury data from year 2021\n"
     ]
    },
    {
     "data": {
      "application/vnd.jupyter.widget-view+json": {
       "model_id": "c5f8adbefc8a4eeb8831c2ff62418479",
       "version_major": 2,
       "version_minor": 0
      },
      "text/plain": [
       "  0%|          | 0/22 [00:00<?, ?it/s]"
      ]
     },
     "metadata": {},
     "output_type": "display_data"
    },
    {
     "name": "stdout",
     "output_type": "stream",
     "text": [
      "(51240, 7)\n"
     ]
    },
    {
     "data": {
      "text/html": [
       "<div>\n",
       "<style scoped>\n",
       "    .dataframe tbody tr th:only-of-type {\n",
       "        vertical-align: middle;\n",
       "    }\n",
       "\n",
       "    .dataframe tbody tr th {\n",
       "        vertical-align: top;\n",
       "    }\n",
       "\n",
       "    .dataframe thead th {\n",
       "        text-align: right;\n",
       "    }\n",
       "</style>\n",
       "<table border=\"1\" class=\"dataframe\">\n",
       "  <thead>\n",
       "    <tr style=\"text-align: right;\">\n",
       "      <th></th>\n",
       "      <th>Player</th>\n",
       "      <th>Position</th>\n",
       "      <th>Injuries</th>\n",
       "      <th>Practice Status</th>\n",
       "      <th>Game Status</th>\n",
       "      <th>Year</th>\n",
       "      <th>Period</th>\n",
       "    </tr>\n",
       "  </thead>\n",
       "  <tbody>\n",
       "    <tr>\n",
       "      <th>0</th>\n",
       "      <td>Jerry Ostroski</td>\n",
       "      <td>G</td>\n",
       "      <td>Leg</td>\n",
       "      <td>NaN</td>\n",
       "      <td>Out</td>\n",
       "      <td>2001</td>\n",
       "      <td>REG6</td>\n",
       "    </tr>\n",
       "    <tr>\n",
       "      <th>1</th>\n",
       "      <td>Jeremy McDaniel</td>\n",
       "      <td>WR</td>\n",
       "      <td>Ankle</td>\n",
       "      <td>NaN</td>\n",
       "      <td>Doubtful</td>\n",
       "      <td>2001</td>\n",
       "      <td>REG6</td>\n",
       "    </tr>\n",
       "    <tr>\n",
       "      <th>2</th>\n",
       "      <td>Tony Driver</td>\n",
       "      <td>SS</td>\n",
       "      <td>Shoulder</td>\n",
       "      <td>NaN</td>\n",
       "      <td>Questionable</td>\n",
       "      <td>2001</td>\n",
       "      <td>REG6</td>\n",
       "    </tr>\n",
       "    <tr>\n",
       "      <th>3</th>\n",
       "      <td>Rob Johnson</td>\n",
       "      <td>QB</td>\n",
       "      <td>Neck</td>\n",
       "      <td>NaN</td>\n",
       "      <td>Probable</td>\n",
       "      <td>2001</td>\n",
       "      <td>REG6</td>\n",
       "    </tr>\n",
       "    <tr>\n",
       "      <th>4</th>\n",
       "      <td>Fred Jones</td>\n",
       "      <td>OLB</td>\n",
       "      <td>Back</td>\n",
       "      <td>NaN</td>\n",
       "      <td>Probable</td>\n",
       "      <td>2001</td>\n",
       "      <td>REG6</td>\n",
       "    </tr>\n",
       "  </tbody>\n",
       "</table>\n",
       "</div>"
      ],
      "text/plain": [
       "            Player Position  Injuries Practice Status   Game Status  Year  \\\n",
       "0   Jerry Ostroski        G       Leg             NaN           Out  2001   \n",
       "1  Jeremy McDaniel       WR     Ankle             NaN      Doubtful  2001   \n",
       "2      Tony Driver       SS  Shoulder             NaN  Questionable  2001   \n",
       "3      Rob Johnson       QB      Neck             NaN      Probable  2001   \n",
       "4       Fred Jones      OLB      Back             NaN      Probable  2001   \n",
       "\n",
       "  Period  \n",
       "0   REG6  \n",
       "1   REG6  \n",
       "2   REG6  \n",
       "3   REG6  \n",
       "4   REG6  "
      ]
     },
     "execution_count": 7,
     "metadata": {},
     "output_type": "execute_result"
    }
   ],
   "source": [
    "# Scraping execution code block\n",
    "scraped_output_df_list = []\n",
    "for year in NFL_SEASON_YEAR_LIST:\n",
    "    print(f\"Scraping NFL injury data from year {year}\")\n",
    "    for period in tqdm(NFL_SEASON_PERIOD_LIST):\n",
    "        try:\n",
    "            temp_df = get_injury_report_df(year=year, period=period)\n",
    "            scraped_output_df_list.append(temp_df)\n",
    "        except ValueError:\n",
    "            continue\n",
    "\n",
    "scraped_output_df = pd.concat(scraped_output_df_list)\n",
    "print(scraped_output_df.shape)\n",
    "scraped_output_df.head()"
   ]
  },
  {
   "cell_type": "code",
   "execution_count": 10,
   "id": "b80edae7-3766-4897-8253-ff94c1cc0846",
   "metadata": {},
   "outputs": [],
   "source": [
    "transformed_output_df = scraped_output_df.copy()\n",
    "transformed_output_df[\"Period Expanded\"] = transformed_output_df[\"Period\"].apply(\n",
    "    lambda x: season_period_hashmap[x]\n",
    ")"
   ]
  },
  {
   "cell_type": "code",
   "execution_count": 11,
   "id": "47392ea2-070a-4136-af26-cdfa48a4c719",
   "metadata": {},
   "outputs": [],
   "source": [
    "transformed_output_df.to_csv(\n",
    "    f\"../output_data/{TODAY_STR}_ScrapedInjuryReport.csv\",\n",
    "    index=False,\n",
    ")"
   ]
  }
 ],
 "metadata": {
  "kernelspec": {
   "display_name": "sport-data-scraper",
   "language": "python",
   "name": "sport-data-scraper"
  },
  "language_info": {
   "codemirror_mode": {
    "name": "ipython",
    "version": 3
   },
   "file_extension": ".py",
   "mimetype": "text/x-python",
   "name": "python",
   "nbconvert_exporter": "python",
   "pygments_lexer": "ipython3",
   "version": "3.8.10"
  }
 },
 "nbformat": 4,
 "nbformat_minor": 5
}
