{
 "cells": [
  {
   "cell_type": "markdown",
   "id": "31a9a455-9e2b-404e-bc10-ce7f89480368",
   "metadata": {},
   "source": [
    "## Attempting to get NFL injury data"
   ]
  },
  {
   "cell_type": "code",
   "execution_count": 1,
   "id": "52478030-e742-448b-9419-a906082237fa",
   "metadata": {},
   "outputs": [],
   "source": [
    "%load_ext lab_black"
   ]
  },
  {
   "cell_type": "code",
   "execution_count": 2,
   "id": "8857f573-8aea-45ee-81c6-eceea7003807",
   "metadata": {},
   "outputs": [],
   "source": [
    "# Base packages\n",
    "import os\n",
    "import numpy as np\n",
    "import pandas as pd\n",
    "import requests\n",
    "import re\n",
    "from datetime import datetime\n",
    "from bs4 import BeautifulSoup"
   ]
  },
  {
   "cell_type": "code",
   "execution_count": 3,
   "id": "582747f9-130b-440d-aca0-bf4e7d9d35b4",
   "metadata": {},
   "outputs": [],
   "source": [
    "# Injury report site\n",
    "INJURY_REPORT_BASE_URL = \"https://www.nfl.com/injuries/league\"\n",
    "HEADERS = {\n",
    "    \"user-agent\": (\n",
    "        \"Mozilla/5.0 (Windows NT 10.0; Win64; x64) AppleWebKit/537.36 \"\n",
    "        \"(KHTML, like Gecko) Chrome/93.0.4577.63 Safari/537.36\"\n",
    "    )\n",
    "}\n",
    "\n",
    "# Time\n",
    "TODAY_STR = datetime.today().strftime(\"%Y%m%d\")\n",
    "\n",
    "# Validation list for NFL periods\n",
    "NFL_SEASON_PERIOD_LIST = [\n",
    "    \"REG1\",\n",
    "    \"REG2\",\n",
    "    \"REG3\",\n",
    "    \"REG4\",\n",
    "    \"REG5\",\n",
    "    \"REG6\",\n",
    "    \"REG7\",\n",
    "    \"REG8\",\n",
    "    \"REG9\",\n",
    "    \"REG10\",\n",
    "    \"REG11\",\n",
    "    \"REG12\",\n",
    "    \"REG13\",\n",
    "    \"REG14\",\n",
    "    \"REG15\",\n",
    "    \"REG16\",\n",
    "    \"REG17\",\n",
    "    \"POST1\",\n",
    "    \"POST2\",\n",
    "    \"POST3\",\n",
    "    \"PRO1\",\n",
    "    \"POST4\",\n",
    "]"
   ]
  },
  {
   "cell_type": "code",
   "execution_count": 4,
   "id": "b5afa03f-1a8c-47fe-9316-ce47fecfc47a",
   "metadata": {
    "tags": []
   },
   "outputs": [
    {
     "data": {
      "text/html": [
       "<div>\n",
       "<style scoped>\n",
       "    .dataframe tbody tr th:only-of-type {\n",
       "        vertical-align: middle;\n",
       "    }\n",
       "\n",
       "    .dataframe tbody tr th {\n",
       "        vertical-align: top;\n",
       "    }\n",
       "\n",
       "    .dataframe thead th {\n",
       "        text-align: right;\n",
       "    }\n",
       "</style>\n",
       "<table border=\"1\" class=\"dataframe\">\n",
       "  <thead>\n",
       "    <tr style=\"text-align: right;\">\n",
       "      <th></th>\n",
       "      <th>Player</th>\n",
       "      <th>Position</th>\n",
       "      <th>Injuries</th>\n",
       "      <th>Practice Status</th>\n",
       "      <th>Game Status</th>\n",
       "    </tr>\n",
       "  </thead>\n",
       "  <tbody>\n",
       "    <tr>\n",
       "      <th>0</th>\n",
       "      <td>Josh Lambo</td>\n",
       "      <td>K</td>\n",
       "      <td>Not injury related - personal matter</td>\n",
       "      <td>Did Not Participate In Practice</td>\n",
       "      <td>Out</td>\n",
       "    </tr>\n",
       "    <tr>\n",
       "      <th>1</th>\n",
       "      <td>Roy Robertson-Harris</td>\n",
       "      <td>DT</td>\n",
       "      <td>Ankle</td>\n",
       "      <td>Limited Participation in Practice</td>\n",
       "      <td>Out</td>\n",
       "    </tr>\n",
       "    <tr>\n",
       "      <th>2</th>\n",
       "      <td>Tre Herndon</td>\n",
       "      <td>CB</td>\n",
       "      <td>NaN</td>\n",
       "      <td>Full Participation in Practice</td>\n",
       "      <td>NaN</td>\n",
       "    </tr>\n",
       "    <tr>\n",
       "      <th>3</th>\n",
       "      <td>Cam Robinson</td>\n",
       "      <td>T</td>\n",
       "      <td>NaN</td>\n",
       "      <td>Full Participation in Practice</td>\n",
       "      <td>NaN</td>\n",
       "    </tr>\n",
       "    <tr>\n",
       "      <th>4</th>\n",
       "      <td>Andrew Norwell</td>\n",
       "      <td>G</td>\n",
       "      <td>NaN</td>\n",
       "      <td>Full Participation in Practice</td>\n",
       "      <td>NaN</td>\n",
       "    </tr>\n",
       "  </tbody>\n",
       "</table>\n",
       "</div>"
      ],
      "text/plain": [
       "                 Player Position                              Injuries  \\\n",
       "0            Josh Lambo        K  Not injury related - personal matter   \n",
       "1  Roy Robertson-Harris       DT                                 Ankle   \n",
       "2           Tre Herndon       CB                                   NaN   \n",
       "3          Cam Robinson        T                                   NaN   \n",
       "4        Andrew Norwell        G                                   NaN   \n",
       "\n",
       "                     Practice Status Game Status  \n",
       "0    Did Not Participate In Practice         Out  \n",
       "1  Limited Participation in Practice         Out  \n",
       "2     Full Participation in Practice         NaN  \n",
       "3     Full Participation in Practice         NaN  \n",
       "4     Full Participation in Practice         NaN  "
      ]
     },
     "execution_count": 4,
     "metadata": {},
     "output_type": "execute_result"
    }
   ],
   "source": [
    "# Sample workflow\n",
    "sample_injury_report_url = \"https://www.nfl.com/injuries/league/2021/REG4\"\n",
    "sample_injury_report_response = requests.get(sample_injury_report_url, headers=HEADERS)\n",
    "sample_injury_report_soup = BeautifulSoup(\n",
    "    sample_injury_report_response.content, \"html.parser\"\n",
    ")\n",
    "\n",
    "# Parsing the HTML table\n",
    "sample_injury_df = pd.concat(\n",
    "    pd.read_html(\n",
    "        str(\n",
    "            sample_injury_report_soup.find_all(\n",
    "                \"table\",\n",
    "                {\"class\": \"d3-o-table d3-o-table--detailed d3-o-reports--detailed\"},\n",
    "            )\n",
    "        )\n",
    "    )\n",
    ")\n",
    "\n",
    "sample_injury_df.head()"
   ]
  },
  {
   "cell_type": "code",
   "execution_count": 5,
   "id": "7ca60673-6f13-4b2b-9ca7-f3ff1cbf01d2",
   "metadata": {},
   "outputs": [],
   "source": [
    "def get_injury_report_df(\n",
    "    base_site_url: str = INJURY_REPORT_BASE_URL, year: int = None, period: str = None\n",
    ") -> pd.DataFrame:\n",
    "    assert (\n",
    "        1965 <= year <= int(datetime.today().strftime(\"%Y\"))\n",
    "    ), \"The year must be between 1965 and this year!\"\n",
    "    assert (\n",
    "        period in NFL_SEASON_PERIOD_LIST\n",
    "    ), \"Please enter a valid NFL season period code! Refer to the Documentation.\"\n",
    "    injury_report_url = f\"{base_site_url}/{str(year)}/{str(period)}\"\n",
    "    injury_report_response = requests.get(injury_report_url, headers=HEADERS)\n",
    "    injury_report_soup = BeautifulSoup(injury_report_response.content, \"html.parser\")\n",
    "    injury_report_table_tags_list = injury_report_soup.find_all(\n",
    "        \"table\", {\"class\": \"d3-o-table d3-o-table--detailed d3-o-reports--detailed\"}\n",
    "    )\n",
    "    if len(injury_report_table_tags_list) == 0:\n",
    "        raise ValueError(\n",
    "            \"I could not find any injury details here, please check if the year or the period exists (e.g. not in the future).\"\n",
    "        )\n",
    "    injury_df = pd.concat(pd.read_html(str(injury_report_table_tags_list)))\n",
    "    injury_df.dropna(subset=[\"Injuries\"], inplace=True)\n",
    "    injury_df.reset_index(drop=True, inplace=True)\n",
    "    return injury_df"
   ]
  },
  {
   "cell_type": "code",
   "execution_count": 6,
   "id": "94d425e6-26be-4c9e-8cea-d3bc6ed3e999",
   "metadata": {},
   "outputs": [],
   "source": [
    "# Checking if it works\n",
    "sample_year = 2021\n",
    "sample_period = \"REG4\"\n",
    "sample_output_injury_df = get_injury_report_df(year=sample_year, period=sample_period)"
   ]
  },
  {
   "cell_type": "code",
   "execution_count": 9,
   "id": "47392ea2-070a-4136-af26-cdfa48a4c719",
   "metadata": {},
   "outputs": [],
   "source": [
    "sample_output_injury_df.to_csv(\n",
    "    f\"../output_data/{TODAY_STR}_SampleInjuryReport-{sample_year}-{sample_period}.csv\",\n",
    "    index=False,\n",
    ")"
   ]
  }
 ],
 "metadata": {
  "kernelspec": {
   "display_name": "sport-data-scraper",
   "language": "python",
   "name": "sport-data-scraper"
  },
  "language_info": {
   "codemirror_mode": {
    "name": "ipython",
    "version": 3
   },
   "file_extension": ".py",
   "mimetype": "text/x-python",
   "name": "python",
   "nbconvert_exporter": "python",
   "pygments_lexer": "ipython3",
   "version": "3.8.10"
  }
 },
 "nbformat": 4,
 "nbformat_minor": 5
}
